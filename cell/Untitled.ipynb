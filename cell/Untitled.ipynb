{
 "cells": [
  {
   "cell_type": "markdown",
   "metadata": {},
   "source": [
    "目标检测、图像分割"
   ]
  },
  {
   "cell_type": "markdown",
   "metadata": {},
   "source": [
    "+ 目标检测: 用框框出物体\n",
    "+ 图像分割: 分出一个物体准确的轮廓"
   ]
  },
  {
   "cell_type": "markdown",
   "metadata": {},
   "source": [
    "也可以这样假设, 给定一张图像 Image, 这个问题就是求一个函数, 从 Image 映射到 Mask."
   ]
  },
  {
   "cell_type": "markdown",
   "metadata": {},
   "source": [
    "第一次是将深度学习结合起来的是全卷积神经网络(FCN),　一般用在分类和检测问题上.　由于用到 CNN,　所以最后提取的特征的尺度是变小的, 和我们要求的函数不一样, 我们要求输入和输出的尺寸一致,　为了让 CNN 提取的尺寸和原图大小一致, FCN 利用上采样和反卷积到原图像的大小, 然后做像素级别的分类. 也就是将分割问题变为分类问题."
   ]
  },
  {
   "cell_type": "markdown",
   "metadata": {},
   "source": [
    "Canny 边缘检测算法的实现"
   ]
  },
  {
   "cell_type": "markdown",
   "metadata": {},
   "source": [
    "图像的边缘信息主要集中在高频段,　通常说图像锐化或检测边缘, 实质就是高频滤波. 我们知道微分运算是求信号的变化率,　具有加强高频分量的作用. 在空域运算中来说, 对图像的锐化是计算微分,　由于数字图像的离散信号,　微分运算就变成了计算差分或者梯度."
   ]
  },
  {
   "cell_type": "markdown",
   "metadata": {},
   "source": [
    "Canny 算法出现之后作为一种标准的边缘提取算法."
   ]
  },
  {
   "cell_type": "markdown",
   "metadata": {},
   "source": [
    "+ 高斯模糊\n",
    "\n",
    "这一步很简单, 类似 LoG(Laplaciab of Gaussian) 作高斯模糊一样, 主要作用是去噪,　因为噪成也集中在高频信号, 很容易被识别为伪边缘, 利用高斯模糊去除噪音,　降低伪边缘.　"
   ]
  }
 ],
 "metadata": {
  "kernelspec": {
   "display_name": "Python 3",
   "language": "python",
   "name": "python3"
  },
  "language_info": {
   "codemirror_mode": {
    "name": "ipython",
    "version": 3
   },
   "file_extension": ".py",
   "mimetype": "text/x-python",
   "name": "python",
   "nbconvert_exporter": "python",
   "pygments_lexer": "ipython3",
   "version": "3.6.7"
  }
 },
 "nbformat": 4,
 "nbformat_minor": 2
}
