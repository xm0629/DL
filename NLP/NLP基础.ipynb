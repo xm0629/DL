{
 "cells": [
  {
   "cell_type": "markdown",
   "metadata": {},
   "source": [
    "### NLP 的概念"
   ]
  },
  {
   "cell_type": "markdown",
   "metadata": {},
   "source": [
    "NLP (Natural Language Processing)自然语言处理. 研究用计算机来处理、理解以及运用人类语言, 达到人与计算机之间进行有效沟通. 从建模角度看, 为了方便计算机处理, 自然语言可以被定义为一组规则或者符号的集合, 我们组合集合中的符号来传递各种信息. "
   ]
  },
  {
   "cell_type": "markdown",
   "metadata": {},
   "source": [
    "NLP 基本可以分为两部分, 自然语言处理以及自然语言生成, 演化为理解和生成文本的基本任务."
   ]
  },
  {
   "cell_type": "markdown",
   "metadata": {},
   "source": [
    "从结构化数据中读取的方式自动生成文本,　该过程主要包含三个阶段\n",
    "\n",
    "+ 文本规划: 完成结构化数据中的基础内容规划\n",
    "+ 语句规划: 从结构化数据中组合语句来表达信息交流\n",
    "+ 实现: 产生语法通顺的语句来表达文本"
   ]
  },
  {
   "cell_type": "markdown",
   "metadata": {},
   "source": [
    "### NLP 应用领域"
   ]
  },
  {
   "cell_type": "markdown",
   "metadata": {},
   "source": [
    "+ 机器翻译: 计算机具备将一种语言翻译成另外一种语言的能力\n",
    "+ 情感分类: 计算机能够判断用户评论是否积极\n",
    "+ 智能问答: 计算机能够正确回答输入的问题\n",
    "+ 文摘生成: 计算机能够准确归纳, 总结并产生文本摘要\n",
    "+ 文本分类: 计算机能够采集各种文章, 进行主题分析, 从而进行自动分类\n",
    "+ 舆论分析: 计算机能够判断目前的舆论导向\n",
    "+ 知识图谱: 知识点相互连接而成的语义网络"
   ]
  },
  {
   "cell_type": "markdown",
   "metadata": {},
   "source": [
    "### 基本术语"
   ]
  },
  {
   "cell_type": "markdown",
   "metadata": {},
   "source": [
    "分词 segment\n",
    "\n",
    "词是最小的能够独立活动的有意义语言成分, 英文单词以空格区分. 汉语是以字为基本的书写单位，词语之间没有明显的区分标志, 中文词语分析是中文分词的基础与关键.\n",
    "\n",
    "分词常用的手段是基于字典的最长串匹配.\n",
    "\n",
    "\n",
    "词性标注 part-of-speech tagging\n",
    "\n",
    "词性一般是指动词、名词、形容词等. 标注的目的是表征词的一种隐藏状态"
   ]
  }
 ],
 "metadata": {
  "kernelspec": {
   "display_name": "Python 3",
   "language": "python",
   "name": "python3"
  },
  "language_info": {
   "codemirror_mode": {
    "name": "ipython",
    "version": 3
   },
   "file_extension": ".py",
   "mimetype": "text/x-python",
   "name": "python",
   "nbconvert_exporter": "python",
   "pygments_lexer": "ipython3",
   "version": "3.6.7"
  }
 },
 "nbformat": 4,
 "nbformat_minor": 2
}
