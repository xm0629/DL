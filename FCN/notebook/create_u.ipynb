{
 "cells": [
  {
   "cell_type": "code",
   "execution_count": 1,
   "metadata": {},
   "outputs": [],
   "source": [
    "from collections import namedtuple\n",
    "import matplotlib.pylab as plt\n",
    "import matplotlib.image as mpimg\n",
    "\n",
    "import numpy as np\n",
    "import scipy.misc\n",
    "import random\n",
    "import os"
   ]
  },
  {
   "cell_type": "code",
   "execution_count": 66,
   "metadata": {},
   "outputs": [],
   "source": [
    "root_dir  = \"./data\"\n",
    "\n",
    "label_dir = os.path.join(root_dir, \"gtFine\")\n",
    "train_dir = os.path.join(label_dir, \"train\")\n",
    "val_dir   = os.path.join(label_dir, \"val\")\n",
    "test_dir  = os.path.join(label_dir, \"test\")\n",
    "\n",
    "# create dir for label index\n",
    "label_idx_dir = os.path.join(root_dir, \"Labeled_idx\")\n",
    "train_idx_dir = os.path.join(label_idx_dir, \"train\")\n",
    "val_idx_dir   = os.path.join(label_idx_dir, \"val\")\n",
    "test_idx_dir  = os.path.join(label_idx_dir, \"test\")\n",
    "\n",
    "for dir in [train_idx_dir, val_idx_dir, test_idx_dir]:\n",
    "    if not os.path.exists(dir):\n",
    "        os.makedirs(dir)"
   ]
  },
  {
   "cell_type": "code",
   "execution_count": 75,
   "metadata": {},
   "outputs": [],
   "source": [
    "train_file = os.path.join(root_dir, \"train.csv\")\n",
    "val_file   = os.path.join(root_dir, \"val.csv\")\n",
    "test_file  = os.path.join(root_dir, \"test.csv\")"
   ]
  },
  {
   "cell_type": "code",
   "execution_count": 76,
   "metadata": {},
   "outputs": [],
   "source": [
    "color2index = {}\n",
    "Label = namedtuple('Label', [\n",
    "                   'name', \n",
    "                   'id', \n",
    "                   'trainId', \n",
    "                   'category', \n",
    "                   'categoryId', \n",
    "                   'hasInstances', \n",
    "                   'ignoreInEval', \n",
    "                   'color'])"
   ]
  },
  {
   "cell_type": "code",
   "execution_count": 77,
   "metadata": {},
   "outputs": [],
   "source": [
    "labels = [\n",
    "    #       name                     id    trainId   category            catId     hasInstances   ignoreInEval   color\n",
    "    Label(  'unlabeled'            ,  0 ,      255 , 'void'            , 0       , False        , True         , (  0,  0,  0) ),\n",
    "    Label(  'ego vehicle'          ,  1 ,      255 , 'void'            , 0       , False        , True         , (  0,  0,  0) ),\n",
    "    Label(  'rectification border' ,  2 ,      255 , 'void'            , 0       , False        , True         , (  0,  0,  0) ),\n",
    "    Label(  'out of roi'           ,  3 ,      255 , 'void'            , 0       , False        , True         , (  0,  0,  0) ),\n",
    "    Label(  'static'               ,  4 ,      255 , 'void'            , 0       , False        , True         , (  0,  0,  0) ),\n",
    "    Label(  'dynamic'              ,  5 ,      255 , 'void'            , 0       , False        , True         , (111, 74,  0) ),\n",
    "    Label(  'ground'               ,  6 ,      255 , 'void'            , 0       , False        , True         , ( 81,  0, 81) ),\n",
    "    Label(  'road'                 ,  7 ,        1 , 'flat'            , 1       , False        , False        , (128, 64,128) ),\n",
    "    Label(  'sidewalk'             ,  8 ,        2 , 'flat'            , 1       , False        , False        , (244, 35,232) ),\n",
    "    Label(  'parking'              ,  9 ,      255 , 'flat'            , 1       , False        , True         , (250,170,160) ),\n",
    "    Label(  'rail track'           , 10 ,      255 , 'flat'            , 1       , False        , True         , (230,150,140) ),\n",
    "    Label(  'building'             , 11 ,        3 , 'construction'    , 2       , False        , False        , ( 70, 70, 70) ),\n",
    "    Label(  'wall'                 , 12 ,        4 , 'construction'    , 2       , False        , False        , (102,102,156) ),\n",
    "    Label(  'fence'                , 13 ,        5 , 'construction'    , 2       , False        , False        , (190,153,153) ),\n",
    "    Label(  'guard rail'           , 14 ,      255 , 'construction'    , 2       , False        , True         , (180,165,180) ),\n",
    "    Label(  'bridge'               , 15 ,      255 , 'construction'    , 2       , False        , True         , (150,100,100) ),\n",
    "    Label(  'tunnel'               , 16 ,      255 , 'construction'    , 2       , False        , True         , (150,120, 90) ),\n",
    "    Label(  'pole'                 , 17 ,        6 , 'object'          , 3       , False        , False        , (153,153,153) ),\n",
    "    Label(  'polegroup'            , 18 ,      255 , 'object'          , 3       , False        , True         , (153,153,153) ),\n",
    "    Label(  'traffic light'        , 19 ,        7 , 'object'          , 3       , False        , False        , (250,170, 30) ),\n",
    "    Label(  'traffic sign'         , 20 ,        8 , 'object'          , 3       , False        , False        , (220,220,  0) ),\n",
    "    Label(  'vegetation'           , 21 ,        9 , 'nature'          , 4       , False        , False        , (107,142, 35) ),\n",
    "    Label(  'terrain'              , 22 ,       10 , 'nature'          , 4       , False        , False        , (152,251,152) ),\n",
    "    Label(  'sky'                  , 23 ,       11 , 'sky'             , 5       , False        , False        , ( 70,130,180) ),\n",
    "    Label(  'person'               , 24 ,       12 , 'human'           , 6       , True         , False        , (220, 20, 60) ),\n",
    "    Label(  'rider'                , 25 ,       13 , 'human'           , 6       , True         , False        , (255,  0,  0) ),\n",
    "    Label(  'car'                  , 26 ,       14 , 'vehicle'         , 7       , True         , False        , (  0,  0,142) ),\n",
    "    Label(  'truck'                , 27 ,       15 , 'vehicle'         , 7       , True         , False        , (  0,  0, 70) ),\n",
    "    Label(  'bus'                  , 28 ,       16 , 'vehicle'         , 7       , True         , False        , (  0, 60,100) ),\n",
    "    Label(  'caravan'              , 29 ,      255 , 'vehicle'         , 7       , True         , True         , (  0,  0, 90) ),\n",
    "    Label(  'trailer'              , 30 ,      255 , 'vehicle'         , 7       , True         , True         , (  0,  0,110) ),\n",
    "    Label(  'train'                , 31 ,       17 , 'vehicle'         , 7       , True         , False        , (  0, 80,100) ),\n",
    "    Label(  'motorcycle'           , 32 ,       18 , 'vehicle'         , 7       , True         , False        , (  0,  0,230) ),\n",
    "    Label(  'bicycle'              , 33 ,       19 , 'vehicle'         , 7       , True         , False        , (119, 11, 32) ),\n",
    "    Label(  'license plate'        , -1 ,       -1 , 'vehicle'         , 7       , False        , True         , (  0,  0,142) ),\n",
    "]"
   ]
  },
  {
   "cell_type": "code",
   "execution_count": 78,
   "metadata": {},
   "outputs": [],
   "source": [
    "def parse_label():\n",
    "    # change label to class index\n",
    "    color2index[(0,0,0)] = 0  # add an void class \n",
    "    for obj in labels:\n",
    "        if obj.ignoreInEval:\n",
    "            continue\n",
    "        idx   = obj.trainId\n",
    "        label = obj.name\n",
    "        color = obj.color\n",
    "        color2index[color] = idx\n",
    "    for label_dir, index_dir, csv_file in zip([train_dir, val_dir, test_dir], [train_idx_dir, val_idx_dir, test_idx_dir], [train_file, val_file, test_file]):\n",
    "        f = open(csv_file, \"w\")\n",
    "        f.write(\"img,label\\n\")\n",
    "        for city in os.listdir(label_dir):\n",
    "            city_dir = os.path.join(label_dir, city)\n",
    "            city_idx_dir = os.path.join(index_dir, city)\n",
    "            data_dir = city_dir.replace(\"gtFine\", \"leftImg8bit\")\n",
    "            if not os.path.exists(city_idx_dir):\n",
    "                os.makedirs(city_idx_dir)\n",
    "            for filename in os.listdir(city_dir):\n",
    "                if 'color' not in filename:\n",
    "                    continue\n",
    "                lab_name = os.path.join(city_idx_dir, filename)\n",
    "                img_name = filename.split(\"gtFine\")[0] + \"leftImg8bit.png\"\n",
    "                img_name = os.path.join(data_dir, img_name)\n",
    "                f.write(\"{},{}.npy\\n\".format(img_name, lab_name))\n",
    "\n",
    "                if os.path.exists(lab_name + '.npy'):\n",
    "                    print(\"Skip %s\" % (filename))\n",
    "                    continue\n",
    "                print(\"Parse %s\" % (filename))\n",
    "                img = os.path.join(city_dir, filename)\n",
    "                img = scipy.misc.imread(img, mode='RGB')\n",
    "                height, weight, _ = img.shape\n",
    "        \n",
    "                idx_mat = np.zeros((height, weight))\n",
    "                for h in range(height):\n",
    "                    for w in range(weight):\n",
    "                        color = tuple(img[h, w])\n",
    "                        try:\n",
    "                            index = color2index[color]\n",
    "                            idx_mat[h, w] = index\n",
    "                        except:\n",
    "                            # no index, assign to void\n",
    "                            idx_mat[h, w] = 19\n",
    "                idx_mat = idx_mat.astype(np.uint8)\n",
    "                np.save(lab_name, idx_mat)\n",
    "                print(\"Finish %s\" % (filename))\n",
    "\n",
    "\n",
    "'''debug function'''\n",
    "def imshow(img, title=None):\n",
    "    try:\n",
    "        img = mpimg.imread(img)\n",
    "        imgplot = plt.imshow(img)\n",
    "    except:\n",
    "        plt.imshow(img, interpolation='nearest')\n",
    "\n",
    "    if title is not None:\n",
    "        plt.title(title)\n",
    "    \n",
    "    plt.show()"
   ]
  },
  {
   "cell_type": "code",
   "execution_count": 79,
   "metadata": {},
   "outputs": [],
   "source": [
    "if __name__ == '__main__':\n",
    "    parse_label()"
   ]
  },
  {
   "cell_type": "code",
   "execution_count": 80,
   "metadata": {},
   "outputs": [],
   "source": [
    "import pandas as pd"
   ]
  },
  {
   "cell_type": "code",
   "execution_count": 84,
   "metadata": {},
   "outputs": [
    {
     "data": {
      "text/html": [
       "<div>\n",
       "<style scoped>\n",
       "    .dataframe tbody tr th:only-of-type {\n",
       "        vertical-align: middle;\n",
       "    }\n",
       "\n",
       "    .dataframe tbody tr th {\n",
       "        vertical-align: top;\n",
       "    }\n",
       "\n",
       "    .dataframe thead th {\n",
       "        text-align: right;\n",
       "    }\n",
       "</style>\n",
       "<table border=\"1\" class=\"dataframe\">\n",
       "  <thead>\n",
       "    <tr style=\"text-align: right;\">\n",
       "      <th></th>\n",
       "      <th>img</th>\n",
       "      <th>label</th>\n",
       "    </tr>\n",
       "  </thead>\n",
       "  <tbody>\n",
       "  </tbody>\n",
       "</table>\n",
       "</div>"
      ],
      "text/plain": [
       "Empty DataFrame\n",
       "Columns: [img, label]\n",
       "Index: []"
      ]
     },
     "execution_count": 84,
     "metadata": {},
     "output_type": "execute_result"
    }
   ],
   "source": [
    "pd.read_csv('./data/test.csv')"
   ]
  },
  {
   "cell_type": "code",
   "execution_count": null,
   "metadata": {},
   "outputs": [],
   "source": []
  }
 ],
 "metadata": {
  "kernelspec": {
   "display_name": "Python 3",
   "language": "python",
   "name": "python3"
  },
  "language_info": {
   "codemirror_mode": {
    "name": "ipython",
    "version": 3
   },
   "file_extension": ".py",
   "mimetype": "text/x-python",
   "name": "python",
   "nbconvert_exporter": "python",
   "pygments_lexer": "ipython3",
   "version": "3.6.7"
  }
 },
 "nbformat": 4,
 "nbformat_minor": 2
}
